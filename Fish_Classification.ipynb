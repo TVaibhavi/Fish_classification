{
  "cells": [
    {
      "cell_type": "markdown",
      "metadata": {
        "id": "0j2Jupo4ecfm"
      },
      "source": [
        "# Decision Trees "
      ]
    },
    {
      "cell_type": "markdown",
      "metadata": {
        "id": "9Tld924Recfn"
      },
      "source": [
        "Decision Tree is one of the popular and most widely used Machine Learning Algorithms because of its robustness to noise, tolerance against missing information, handling of irrelevant, redundant predictive attribute values, low computational cost, interpretability, fast run time and robust predictors."
      ]
    },
    {
      "cell_type": "markdown",
      "metadata": {
        "id": "gkE1tQG3ecfo"
      },
      "source": [
        "## Data Aquisition and Formating"
      ]
    },
    {
      "cell_type": "code",
      "execution_count": 22,
      "metadata": {
        "id": "UPEFhhIYecfo"
      },
      "outputs": [],
      "source": [
        "import pandas as pd"
      ]
    },
    {
      "cell_type": "code",
      "execution_count": 23,
      "metadata": {
        "id": "VeJtZPLSecfp"
      },
      "outputs": [],
      "source": [
        "df=pd.read_csv('Fish.csv')"
      ]
    },
    {
      "cell_type": "markdown",
      "metadata": {
        "id": "9jLjLcqoecfq"
      },
      "source": [
        "The object has properties where you can access its atributes."
      ]
    },
    {
      "cell_type": "code",
      "execution_count": 24,
      "metadata": {
        "colab": {
          "base_uri": "https://localhost:8080/"
        },
        "id": "5_Zd9iLwecfr",
        "outputId": "acccb449-cd17-4349-ac2a-c92240f0e8fe"
      },
      "outputs": [
        {
          "output_type": "stream",
          "name": "stdout",
          "text": [
            "['Bream' 'Roach' 'Whitefish' 'Parkki' 'Perch' 'Pike' 'Smelt']\n"
          ]
        }
      ],
      "source": [
        "print(df['Species'].unique())\n"
      ]
    },
    {
      "cell_type": "code",
      "execution_count": 25,
      "metadata": {
        "colab": {
          "base_uri": "https://localhost:8080/"
        },
        "id": "0Y_T4gKRecft",
        "outputId": "a0074077-f8de-4916-ad33-4700fb8fa8c8"
      },
      "outputs": [
        {
          "output_type": "stream",
          "name": "stdout",
          "text": [
            "Species\n",
            "Bream        35\n",
            "Parkki       11\n",
            "Perch        56\n",
            "Pike         17\n",
            "Roach        20\n",
            "Smelt        14\n",
            "Whitefish     6\n",
            "dtype: int64\n"
          ]
        }
      ],
      "source": [
        "print(df.groupby('Species').size())\n"
      ]
    },
    {
      "cell_type": "code",
      "execution_count": 26,
      "metadata": {
        "colab": {
          "base_uri": "https://localhost:8080/",
          "height": 334
        },
        "id": "SzpLHJoeecft",
        "outputId": "60082dc1-7c67-4802-8819-781613c26098"
      },
      "outputs": [
        {
          "output_type": "stream",
          "name": "stderr",
          "text": [
            "/usr/local/lib/python3.7/dist-packages/seaborn/_decorators.py:43: FutureWarning: Pass the following variable as a keyword arg: x. From version 0.12, the only valid positional argument will be `data`, and passing other arguments without an explicit keyword will result in an error or misinterpretation.\n",
            "  FutureWarning\n"
          ]
        },
        {
          "output_type": "display_data",
          "data": {
            "text/plain": [
              "<Figure size 432x288 with 1 Axes>"
            ],
            "image/png": "[encoded data removed]"
          },
          "metadata": {
            "needs_background": "light"
          }
        }
      ],
      "source": [
        "import seaborn as sns\n",
        "import matplotlib.pyplot as plt\n",
        "\n",
        "sns.countplot(df['Species'],label=\"Count\")\n",
        "plt.show()"
      ]
    },
    {
      "cell_type": "code",
      "execution_count": 27,
      "metadata": {
        "colab": {
          "base_uri": "https://localhost:8080/",
          "height": 602
        },
        "id": "N5xIcDtBecfu",
        "outputId": "5ea4e27a-0c5f-4c04-da0c-544bf0a354f1"
      },
      "outputs": [
        {
          "output_type": "display_data",
          "data": {
            "text/plain": [
              "<Figure size 648x648 with 6 Axes>"
            ],
            "image/png": "[encoded data removed]"
          },
          "metadata": {
            "needs_background": "light"
          }
        }
      ],
      "source": [
        "import pylab as pl\n",
        "df.drop('Species' ,axis=1).hist(bins=30, figsize=(9,9))\n",
        "pl.suptitle(\"Histogram for each numeric input variable\")\n",
        "plt.savefig('Fish_hist')\n",
        "plt.show()"
      ]
    },
    {
      "cell_type": "markdown",
      "metadata": {
        "id": "zEoZVXnIecfv"
      },
      "source": [
        "Let's work with Pandas Dataframe from now on...."
      ]
    },
    {
      "cell_type": "code",
      "execution_count": 28,
      "metadata": {
        "colab": {
          "base_uri": "https://localhost:8080/"
        },
        "id": "9czy7XkTecfz",
        "outputId": "6cec1728-1374-4353-a9a1-2292ac558f1c"
      },
      "outputs": [
        {
          "output_type": "stream",
          "name": "stdout",
          "text": [
            "     Weight  Length1  Length2  Length3   Height   Width\n",
            "0     242.0     23.2     25.4     30.0  11.5200  4.0200\n",
            "1     290.0     24.0     26.3     31.2  12.4800  4.3056\n",
            "2     340.0     23.9     26.5     31.1  12.3778  4.6961\n",
            "3     363.0     26.3     29.0     33.5  12.7300  4.4555\n",
            "4     430.0     26.5     29.0     34.0  12.4440  5.1340\n",
            "..      ...      ...      ...      ...      ...     ...\n",
            "154    12.2     11.5     12.2     13.4   2.0904  1.3936\n",
            "155    13.4     11.7     12.4     13.5   2.4300  1.2690\n",
            "156    12.2     12.1     13.0     13.8   2.2770  1.2558\n",
            "157    19.7     13.2     14.3     15.2   2.8728  2.0672\n",
            "158    19.9     13.8     15.0     16.2   2.9322  1.8792\n",
            "\n",
            "[159 rows x 6 columns]\n"
          ]
        }
      ],
      "source": [
        "print(X)"
      ]
    },
    {
      "cell_type": "code",
      "execution_count": 29,
      "metadata": {
        "colab": {
          "base_uri": "https://localhost:8080/"
        },
        "id": "jlfqhAEaecfz",
        "outputId": "3c6d5f02-0109-460b-dddf-3381881b65ff"
      },
      "outputs": [
        {
          "output_type": "stream",
          "name": "stdout",
          "text": [
            "0      Bream\n",
            "1      Bream\n",
            "2      Bream\n",
            "3      Bream\n",
            "4      Bream\n",
            "       ...  \n",
            "154    Smelt\n",
            "155    Smelt\n",
            "156    Smelt\n",
            "157    Smelt\n",
            "158    Smelt\n",
            "Name: Species, Length: 159, dtype: object\n"
          ]
        }
      ],
      "source": [
        "print(y)"
      ]
    },
    {
      "cell_type": "code",
      "execution_count": 30,
      "metadata": {
        "id": "RXsxnlsGecfz"
      },
      "outputs": [],
      "source": [
        "from sklearn.model_selection import train_test_split\n",
        "X_train, X_test, y_train, y_test = train_test_split(X, y, random_state=0)\n",
        "from sklearn.preprocessing import MinMaxScaler\n",
        "scaler = MinMaxScaler()\n",
        "X_train = scaler.fit_transform(X_train)\n",
        "X_test = scaler.transform(X_test)\n"
      ]
    },
    {
      "cell_type": "markdown",
      "metadata": {
        "id": "8d8P0-zkecf0"
      },
      "source": [
        "Convert bunch-object to pandas dataframe"
      ]
    },
    {
      "cell_type": "code",
      "execution_count": 31,
      "metadata": {
        "colab": {
          "base_uri": "https://localhost:8080/"
        },
        "id": "gofuu7Xyecf0",
        "outputId": "d8a112ff-9842-4eb5-9291-0cd66658f27f"
      },
      "outputs": [
        {
          "output_type": "stream",
          "name": "stdout",
          "text": [
            "Accuracy of Decision Tree classifier on training set: 1.00\n",
            "Accuracy of Decision Tree classifier on test set: 0.70\n"
          ]
        }
      ],
      "source": [
        "from sklearn.tree import DecisionTreeClassifier\n",
        "clf = DecisionTreeClassifier().fit(X_train, y_train)\n",
        "print('Accuracy of Decision Tree classifier on training set: {:.2f}'\n",
        "     .format(clf.score(X_train, y_train)))\n",
        "print('Accuracy of Decision Tree classifier on test set: {:.2f}'\n",
        "     .format(clf.score(X_test, y_test)))"
      ]
    },
    {
      "cell_type": "code",
      "execution_count": 32,
      "metadata": {
        "colab": {
          "base_uri": "https://localhost:8080/"
        },
        "id": "ddio_WJZecf2",
        "outputId": "5fff8bb0-f45b-48c4-9d41-caa577a38c46"
      },
      "outputs": [
        {
          "output_type": "execute_result",
          "data": {
            "text/plain": [
              "DecisionTreeClassifier()"
            ]
          },
          "metadata": {},
          "execution_count": 32
        }
      ],
      "source": [
        "fish_classifier = DecisionTreeClassifier()\n",
        "fish_classifier.fit(X,y)"
      ]
    },
    {
      "cell_type": "code",
      "execution_count": 33,
      "metadata": {
        "colab": {
          "base_uri": "https://localhost:8080/"
        },
        "id": "qqcXpbLoecf2",
        "outputId": "083ff604-227c-42ac-c5ad-dcf461983866"
      },
      "outputs": [
        {
          "output_type": "stream",
          "name": "stdout",
          "text": [
            " Sample most likely  a ['Parkki'] Fish.\n"
          ]
        },
        {
          "output_type": "stream",
          "name": "stderr",
          "text": [
            "/usr/local/lib/python3.7/dist-packages/sklearn/base.py:451: UserWarning: X does not have valid feature names, but DecisionTreeClassifier was fitted with feature names\n",
            "  \"X does not have valid feature names, but\"\n"
          ]
        }
      ],
      "source": [
        "sample_one_pred_tree1 = (fish_classifier.predict([[55, 13, 14, 16,8,2]]))\n",
        "#print(sample_one_pred_tree1)\n",
        "print(f\" Sample most likely  a {sample_one_pred_tree1} Fish.\")"
      ]
    },
    {
      "cell_type": "code",
      "execution_count": 34,
      "metadata": {
        "id": "rmSFfIsIecf3"
      },
      "outputs": [],
      "source": [
        "import pickle\n",
        "pickle_out = open(\"fish_classifier.pkl\",\"wb\")\n",
        "pickle.dump(fish_classifier,pickle_out)\n",
        "pickle_out.close()"
      ]
    },
    {
      "cell_type": "code",
      "execution_count": 35,
      "metadata": {
        "id": "vT0R0jXBecf3"
      },
      "outputs": [],
      "source": [
        " # Load the model from disk\n",
        "loaded_model = pickle.load(open(\"fish_classifier.pkl\", 'rb'))"
      ]
    },
    {
      "cell_type": "code",
      "execution_count": 37,
      "metadata": {
        "colab": {
          "base_uri": "https://localhost:8080/"
        },
        "id": "7uLVG5-Lecf3",
        "outputId": "c77a342d-bdcd-48a1-e3b5-d7579efe0ca4"
      },
      "outputs": [
        {
          "output_type": "stream",
          "name": "stdout",
          "text": [
            " Sample most likely  a ['Parkki'] Fish.\n"
          ]
        },
        {
          "output_type": "stream",
          "name": "stderr",
          "text": [
            "/usr/local/lib/python3.7/dist-packages/sklearn/base.py:451: UserWarning: X does not have valid feature names, but DecisionTreeClassifier was fitted with feature names\n",
            "  \"X does not have valid feature names, but\"\n"
          ]
        }
      ],
      "source": [
        "sample_one_pred_tree1 = (loaded_model.predict([[55, 13, 14, 16,8,2]]))\n",
        "print(f\" Sample most likely  a {sample_one_pred_tree1} Fish.\")"
      ]
    }
  ],
  "metadata": {
    "kernelspec": {
      "display_name": "Python 3",
      "language": "python",
      "name": "python3"
    },
    "language_info": {
      "codemirror_mode": {
        "name": "ipython",
        "version": 3
      },
      "file_extension": ".py",
      "mimetype": "text/x-python",
      "name": "python",
      "nbconvert_exporter": "python",
      "pygments_lexer": "ipython3",
      "version": "3.8.8"
    },
    "toc": {
      "base_numbering": 1,
      "nav_menu": {},
      "number_sections": true,
      "sideBar": true,
      "skip_h1_title": false,
      "title_cell": "Table of Contents",
      "title_sidebar": "Contents",
      "toc_cell": false,
      "toc_position": {},
      "toc_section_display": true,
      "toc_window_display": false
    },
    "varInspector": {
      "cols": {
        "lenName": 16,
        "lenType": 16,
        "lenVar": 40
      },
      "kernels_config": {
        "python": {
          "delete_cmd_postfix": "",
          "delete_cmd_prefix": "del ",
          "library": "var_list.py",
          "varRefreshCmd": "print(var_dic_list())"
        },
        "r": {
          "delete_cmd_postfix": ") ",
          "delete_cmd_prefix": "rm(",
          "library": "var_list.r",
          "varRefreshCmd": "cat(var_dic_list()) "
        }
      },
      "types_to_exclude": [
        "module",
        "function",
        "builtin_function_or_method",
        "instance",
        "_Feature"
      ],
      "window_display": false
    },
    "colab": {
      "name": "Fish_Classification.ipynb",
      "provenance": [],
      "collapsed_sections": []
    }
  },
  "nbformat": 4,
  "nbformat_minor": 0
}